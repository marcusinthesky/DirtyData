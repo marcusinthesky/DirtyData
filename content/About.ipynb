{
 "cells": [
  {
   "cell_type": "markdown",
   "metadata": {},
   "source": [
    "![Profile Picture](https://pbs.twimg.com/profile_images/866053673511772160/MrljrN-y.jpg)"
   ]
  },
  {
   "cell_type": "markdown",
   "metadata": {},
   "source": [
    "Hi I'm Marcus.  A Master of Science Student in Advanced Analytics and Decision Sciences at the Unviversity of Cape Town. I am a guaduate of [Bachelors ofBusiness Science in Finance (with Economics)](http://www.commerce.uct.ac.za/Managementstudies/ActuarialScience/Pages/Bachelor-of-Business-Science-BBusSc-overview): an MBA-style four year degree focussed on business strategy and corperate finance, heavily rooting in strong and rigorous analytical skills.  While Finance has been my main academic focus, I spend a lot of time sleeping around with [Statistics and Analytics at UCT](http://www.stats.uct.ac.za/stats/study/postgrad/honours) and have finally become exclusive (h) 🏦.  \n",
    "  \n",
    "I have interned at a number of cool cool companies over the years, like KPMG in IT Assurance and governance, [Technocore](https://www.technocore.co.za/), [DataProphet](http://www.dataprophet.co.za/) and [NMRQL](https://nmrql.com/research/) 🔰.  In my former life, I was on the UCT Student Union for two years and have spend a lot of time organizing and competing in schools and university debating, including convening the World University Debating Championships 🏫.  \n",
    "  \n",
    "I should probably put my [CV here](https://github.com/marcusinthesky/DirtyData/blob/master/content/Media/CV_Marcus_Gawronsky_31_January_2019.pdf).  If you are interesting in collaberating on a projects or are looking for help, please email me at gwrmar002\\[at\\]myuct.ac.za.  If you want an Anaconda Environment to run the code on thise blog, look [here](https://github.com/marcusinthesky/DirtyData/environement.txt).  \n",
    "\n",
    "My interests include Natural Language Processing, Industral ML and Model Understandability.  "
   ]
  },
  {
   "cell_type": "code",
   "execution_count": null,
   "metadata": {},
   "outputs": [],
   "source": []
  }
 ],
 "metadata": {
  "kernelspec": {
   "display_name": "Python 3",
   "language": "python",
   "name": "python3"
  },
  "language_info": {
   "codemirror_mode": {
    "name": "ipython",
    "version": 3
   },
   "file_extension": ".py",
   "mimetype": "text/x-python",
   "name": "python",
   "nbconvert_exporter": "python",
   "pygments_lexer": "ipython3",
   "version": "3.6.8"
  }
 },
 "nbformat": 4,
 "nbformat_minor": 2
}
