{
 "cells": [
  {
   "cell_type": "markdown",
   "metadata": {},
   "source": [
    "![Profile Picture](https://pbs.twimg.com/profile_images/866053673511772160/MrljrN-y.jpg)"
   ]
  },
  {
   "cell_type": "markdown",
   "metadata": {},
   "source": [
    "Hi I'm Marcus.  I am a final year in [Business Science in Finance (with Economics)](http://www.commerce.uct.ac.za/Managementstudies/ActuarialScience/Pages/Bachelor-of-Business-Science-BBusSc-overview) an MBA-style four year degree focussed on business strategy and corperate finance, heavily rooting in strong and rigorous analytical skills.  While Finance is my main academic focus, I spend a lot of time sleeping around with [Statistics and Analytics at UCT](http://www.stats.uct.ac.za/stats/study/postgrad/honours) 🏦.  \n",
    "  \n",
    "I have interned at a number of cool cool companies over the years, like KPMG in IT Assurance and governance, [Technocore](https://www.technocore.co.za/), [DataProphet](http://www.dataprophet.co.za/) and [NMRQL](https://nmrql.com/research/) 🔰.  In my former life, I was on the UCT Student Union for two years and have spend a lot of time organizing and competing in schools and university debating 🏫.  \n",
    "  \n",
    "I should probably put my [CV here](https://www.sharelatex.com/project/5aaa6f5e4993650e47d32952/output/output.pdf?compileGroup=standard&clsiserverid=clsi2-39&popupDownload=true).  If you are interesting in collaberating on a projects or are looking for help, please tweet me.    "
   ]
  },
  {
   "cell_type": "code",
   "execution_count": null,
   "metadata": {},
   "outputs": [],
   "source": []
  }
 ],
 "metadata": {
  "kernelspec": {
   "display_name": "Python 3",
   "language": "python",
   "name": "python3"
  },
  "language_info": {
   "codemirror_mode": {
    "name": "ipython",
    "version": 3
   },
   "file_extension": ".py",
   "mimetype": "text/x-python",
   "name": "python",
   "nbconvert_exporter": "python",
   "pygments_lexer": "ipython3",
   "version": "3.6.5"
  }
 },
 "nbformat": 4,
 "nbformat_minor": 2
}
