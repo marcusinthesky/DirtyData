{
 "cells": [
  {
   "cell_type": "markdown",
   "metadata": {},
   "source": [
    "While I am no data science sage, nor an expert on how people ought best learn, I have been asked quite often lately about the resources I use to explore and discover new techniques and applications for Data Science.  🔆  My last few posts have been quite technical, exploring techniqies in dimensionality reduction, document embeddings and evolving neural networks, and I promise there are more coming, but I thought in the meantime it may be useful to make a post about some of my favourite resources for others to enjoy as much I do.  📠"
   ]
  },
  {
   "cell_type": "markdown",
   "metadata": {},
   "source": [
    "# Podcasts\n",
    "I listen to a lot of Data Science podcasts... really, a lot. 📻 And my interests have changed over time as I have learn more and completed some back-catalogues of my absolute favourites.  One of the first podcasts I got into was one called [DataSkeptic](https://dataskeptic.com/) and it really is one of my favourites. The mini-episodes serves a great intoductions to things and the interviews are ussually of exceptional quality.  Kyle and his spouse Linda has a wonderful dynamic on the show, which I find warm and funny.  📡\n",
    "  \n",
    "I have recently started getting into [DataFramed](https://www.datacamp.com/community/podcast), which is a great podcasts from the people at [DataCamp](https://www.datacamp.com/), whose app I really enjoy using them I am waiting around to practise my skills and maybe learn some hidden gems of certain packages in R and Python. 📱 \n",
    "\n",
    "For those of you ready to delve deeped into the maze [Talking Machines](https://www.thetalkingmachines.com/episodes) is one of the absolute best. It isn't as frequent as the rest, but they have had some huge names on the show and for those really to get technical it is a absolute gold mine of knowledge.  A few years ago they have a number of episodes from an African Data Science Conferrence, which I really enjoyed and I think really inspired a lot of my thoughts on the oppotunities for Data Science here in South Africa.  🇿🇦\n",
    "  \n",
    "Others.  I'm not going to give longer descriptions for these but rather a list, just cause of time, they are really good but I do not follow then quite as frequently 🗳:  \n",
    "- [TWIML&AI](https://twimlai.com/)  \n",
    "- [Linear Digressions](lineardigressions.com/)  \n",
    "- [Software Engineering Daily](https://softwareengineeringdaily.com/)  "
   ]
  },
  {
   "cell_type": "markdown",
   "metadata": {},
   "source": [
    "# Youtube\n",
    "While my I want a crazy amount of Youtube, most of it is just recreational, and I battle to follow code or concepts in that format. 📺 I have really enjoyed [Siraj Raval](https://www.youtube.com/channel/UCWN3xxRkmTPmbKwht9FuE5A),[Sentdex](https://www.youtube.com/user/sentdex) and [Two Minute Papers](https://www.youtube.com/user/keeroyz), and if you want to improve your understanding of linear algebra [3Blue1Brown](https://www.youtube.com/channel/UCYO_jab_esuFRV4b17AJtAw).  These are all very different formats, so I recommend watching at learn one video from each to see the style you like best.  📐\n",
    "  \n",
    "One great thing about youtube is that many conferrences now publish their content there, so you can find old presentations from PyCon and Scipy Conferrences which are always of an incredibly high quality.  🐍"
   ]
  },
  {
   "cell_type": "markdown",
   "metadata": {},
   "source": [
    "# Books, Tutorials and Papers\n",
    "This is hard, cause there is just so much.  I find the [Machine Learning subReddit](https://www.reddit.com/r/MachineLearning/) a great place for finding new Machine Learning papers on [arkiv](https://arxiv.org/). 📚 I have really enjoyed [Python Machine Learning, by Sebastien Raschka](https://g.co/kgs/U7GmVr) and [Deep Learning in Python, by François Chollet](https://www.manning.com/books/deep-learning-with-python).  Thankfully they have been at the UCT or Stellenbosch University Libraries, so I have been quite lucky to get physical copies.  Tutorials by Yoshua Bengio on [Learning Deep Architectures for AI](https://www.google.com/url?sa=t&rct=j&q=&esrc=s&source=web&cd=1&cad=rja&uact=8&ved=0ahUKEwiIk7ql4ZLcAhWSRMAKHW60AFMQFggsMAA&url=https%3A%2F%2Fwww.iro.umontreal.ca%2F~bengioy%2Fpapers%2Fftml.pdf&usg=AOvVaw22DlAA2wFmCdIKg-SeNNyR) are also fantastic and highly recommended.  🎓"
   ]
  },
  {
   "cell_type": "markdown",
   "metadata": {},
   "source": [
    "I hope this post wasn't too long as really helps some people orient themselves. 🆘  If you have other great resources, please send them my way! 😀"
   ]
  }
 ],
 "metadata": {
  "kernelspec": {
   "display_name": "Python 3",
   "language": "python",
   "name": "python3"
  },
  "language_info": {
   "codemirror_mode": {
    "name": "ipython",
    "version": 3
   },
   "file_extension": ".py",
   "mimetype": "text/x-python",
   "name": "python",
   "nbconvert_exporter": "python",
   "pygments_lexer": "ipython3",
   "version": "3.6.5"
  }
 },
 "nbformat": 4,
 "nbformat_minor": 2
}
